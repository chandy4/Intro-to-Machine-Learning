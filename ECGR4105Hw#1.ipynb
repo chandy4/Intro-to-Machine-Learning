{
 "cells": [
  {
   "cell_type": "code",
   "execution_count": 154,
   "id": "8ef18dc2-57ad-4ad1-acbc-d4dbe0ee6842",
   "metadata": {},
   "outputs": [
    {
     "data": {
      "text/html": [
       "<div>\n",
       "<style scoped>\n",
       "    .dataframe tbody tr th:only-of-type {\n",
       "        vertical-align: middle;\n",
       "    }\n",
       "\n",
       "    .dataframe tbody tr th {\n",
       "        vertical-align: top;\n",
       "    }\n",
       "\n",
       "    .dataframe thead th {\n",
       "        text-align: right;\n",
       "    }\n",
       "</style>\n",
       "<table border=\"1\" class=\"dataframe\">\n",
       "  <thead>\n",
       "    <tr style=\"text-align: right;\">\n",
       "      <th></th>\n",
       "      <th>price</th>\n",
       "      <th>area</th>\n",
       "      <th>bedrooms</th>\n",
       "      <th>bathrooms</th>\n",
       "      <th>stories</th>\n",
       "      <th>mainroad</th>\n",
       "      <th>guestroom</th>\n",
       "      <th>basement</th>\n",
       "      <th>hotwaterheating</th>\n",
       "      <th>airconditioning</th>\n",
       "      <th>parking</th>\n",
       "      <th>prefarea</th>\n",
       "      <th>furnishingstatus</th>\n",
       "    </tr>\n",
       "  </thead>\n",
       "  <tbody>\n",
       "    <tr>\n",
       "      <th>0</th>\n",
       "      <td>13300000</td>\n",
       "      <td>7420</td>\n",
       "      <td>4</td>\n",
       "      <td>2</td>\n",
       "      <td>3</td>\n",
       "      <td>1</td>\n",
       "      <td>0</td>\n",
       "      <td>0</td>\n",
       "      <td>0</td>\n",
       "      <td>1</td>\n",
       "      <td>2</td>\n",
       "      <td>1</td>\n",
       "      <td>furnished</td>\n",
       "    </tr>\n",
       "    <tr>\n",
       "      <th>1</th>\n",
       "      <td>12250000</td>\n",
       "      <td>8960</td>\n",
       "      <td>4</td>\n",
       "      <td>4</td>\n",
       "      <td>4</td>\n",
       "      <td>1</td>\n",
       "      <td>0</td>\n",
       "      <td>0</td>\n",
       "      <td>0</td>\n",
       "      <td>1</td>\n",
       "      <td>3</td>\n",
       "      <td>0</td>\n",
       "      <td>furnished</td>\n",
       "    </tr>\n",
       "    <tr>\n",
       "      <th>2</th>\n",
       "      <td>12250000</td>\n",
       "      <td>9960</td>\n",
       "      <td>3</td>\n",
       "      <td>2</td>\n",
       "      <td>2</td>\n",
       "      <td>1</td>\n",
       "      <td>0</td>\n",
       "      <td>1</td>\n",
       "      <td>0</td>\n",
       "      <td>0</td>\n",
       "      <td>2</td>\n",
       "      <td>1</td>\n",
       "      <td>semi-furnished</td>\n",
       "    </tr>\n",
       "    <tr>\n",
       "      <th>3</th>\n",
       "      <td>12215000</td>\n",
       "      <td>7500</td>\n",
       "      <td>4</td>\n",
       "      <td>2</td>\n",
       "      <td>2</td>\n",
       "      <td>1</td>\n",
       "      <td>0</td>\n",
       "      <td>1</td>\n",
       "      <td>0</td>\n",
       "      <td>1</td>\n",
       "      <td>3</td>\n",
       "      <td>1</td>\n",
       "      <td>furnished</td>\n",
       "    </tr>\n",
       "    <tr>\n",
       "      <th>4</th>\n",
       "      <td>11410000</td>\n",
       "      <td>7420</td>\n",
       "      <td>4</td>\n",
       "      <td>1</td>\n",
       "      <td>2</td>\n",
       "      <td>1</td>\n",
       "      <td>1</td>\n",
       "      <td>1</td>\n",
       "      <td>0</td>\n",
       "      <td>1</td>\n",
       "      <td>2</td>\n",
       "      <td>0</td>\n",
       "      <td>furnished</td>\n",
       "    </tr>\n",
       "  </tbody>\n",
       "</table>\n",
       "</div>"
      ],
      "text/plain": [
       "      price  area  bedrooms  bathrooms  stories  mainroad  guestroom  \\\n",
       "0  13300000  7420         4          2        3         1          0   \n",
       "1  12250000  8960         4          4        4         1          0   \n",
       "2  12250000  9960         3          2        2         1          0   \n",
       "3  12215000  7500         4          2        2         1          0   \n",
       "4  11410000  7420         4          1        2         1          1   \n",
       "\n",
       "   basement  hotwaterheating  airconditioning  parking  prefarea  \\\n",
       "0         0                0                1        2         1   \n",
       "1         0                0                1        3         0   \n",
       "2         1                0                0        2         1   \n",
       "3         1                0                1        3         1   \n",
       "4         1                0                1        2         0   \n",
       "\n",
       "  furnishingstatus  \n",
       "0        furnished  \n",
       "1        furnished  \n",
       "2   semi-furnished  \n",
       "3        furnished  \n",
       "4        furnished  "
      ]
     },
     "execution_count": 154,
     "metadata": {},
     "output_type": "execute_result"
    }
   ],
   "source": [
    "import numpy as np\n",
    "import pandas as pd\n",
    "import matplotlib.pyplot as plt \n",
    "from sklearn.model_selection import train_test_split\n",
    "from sklearn.preprocessing import MinMaxScaler, StandardScaler\n",
    "import warnings\n",
    "\n",
    "warnings.filterwarnings('ignore')\n",
    "\n",
    "housing = pd.read_csv(r'C:\\Users\\Connor\\Documents\\IntroToMLHW\\HW2\\Housing.csv')\n",
    "\n",
    "varlist=['mainroad','guestroom','basement','hotwaterheating','airconditioning', 'prefarea']\n",
    "\n",
    "def binary_map(x):\n",
    "    return x.map({'yes':1,\"no\":0})\n",
    "         \n",
    "\n",
    "housing[varlist] = housing[varlist].apply(binary_map)\n",
    "         \n",
    "random = np.random.seed(45)\n",
    "df_train, df_test = train_test_split(housing, train_size = 0.7, test_size = 0.3, random_state = random)\n",
    "m = len(df_train)\n",
    "n = len(df_test)\n",
    "\n",
    "housing.head()\n"
   ]
  },
  {
   "cell_type": "code",
   "execution_count": 155,
   "id": "3ceaf516-b6fc-42cf-aec8-85e9a816ad47",
   "metadata": {},
   "outputs": [],
   "source": [
    "def computeCost(x, y, theta, lam, size):\n",
    "    predictions = x.dot(theta)\n",
    "    errors = np.subtract(predictions, y)\n",
    "    sqrErrors = np.square(errors)\n",
    "    sqrTheta = np.square(theta)\n",
    "    J = 1/(2 * size) * (np.sum(sqrErrors) + lam * np.sum(sqrTheta))\n",
    "    \n",
    "    return J"
   ]
  },
  {
   "cell_type": "code",
   "execution_count": 156,
   "id": "5cfb8947-672e-4bcd-821d-44cd858a9729",
   "metadata": {},
   "outputs": [],
   "source": [
    "def gradientDescent(x, y, valX, valY, theta, alpha, iterations, lam):\n",
    "    cost_history = np.zeros(iterations)\n",
    "    validationCost = np.zeros(iterations)\n",
    "\n",
    "    for i in range(iterations):\n",
    "        predictions = x.dot(theta)\n",
    "        errors = np.subtract(predictions, y)\n",
    "        sum_delta = (alpha / m) * x.transpose().dot(errors)\n",
    "        theta = theta * (1 - alpha * (lam / m)) - sum_delta;\n",
    "        cost_history[i] = computeCost(x, y, theta, lam, m)\n",
    "        validationCost[i] = computeCost(valX, valY, theta, 0, n)\n",
    "        \n",
    "    return theta, cost_history, validationCost\n",
    "    "
   ]
  },
  {
   "cell_type": "code",
   "execution_count": 169,
   "id": "a6e729f5-f3a3-4622-a298-e8cba0f01cc0",
   "metadata": {},
   "outputs": [
    {
     "data": {
      "image/png": "[encoded data removed]",
      "text/plain": [
       "<Figure size 432x288 with 1 Axes>"
      ]
     },
     "metadata": {
      "needs_background": "light"
     },
     "output_type": "display_data"
    }
   ],
   "source": [
    "# Training for Problem 1a\n",
    "\n",
    "\n",
    "varlist = ['price', 'area', 'bedrooms', 'bathrooms', 'stories', 'parking']\n",
    "\n",
    "housing1aTrain = df_train[varlist]\n",
    "housing1aTest = df_test[varlist]\n",
    "\n",
    "\n",
    "theta = np.zeros(len(varlist))\n",
    "\n",
    "y = housing1aTrain.pop('price')\n",
    "x = housing1aTrain\n",
    "\n",
    "iterations = 2000\n",
    "alpha = 0.00000001\n",
    "\n",
    "x0 = np.ones((m, 1))\n",
    "x = np.hstack((x0, x))\n",
    "\n",
    "lam = 0\n",
    "\n",
    "valY = housing1aTest.pop('price')\n",
    "valX = housing1aTest\n",
    "\n",
    "x0 = np.ones((n, 1))\n",
    "valX = np.hstack((x0, valX))\n",
    "\n",
    "theta, cost_history, validationCost = gradientDescent(x, y, valX, valY, theta, alpha, iterations, lam)\n",
    "\n",
    "\n",
    "iteration_array = np.arange(1, iterations + 1)\n",
    "\n",
    "plt.plot(iteration_array, cost_history, color= 'red', label = 'Training')\n",
    "plt.plot(iteration_array, validationCost, color= 'blue', label = 'Validation')\n",
    "plt.title('1a Covergence of Gradient Descent for Training and Validation')\n",
    "plt.xlabel(\"Iterations\")\n",
    "plt.ylabel(\"Cost\")\n",
    "plt.legend()\n",
    "plt.grid()\n"
   ]
  },
  {
   "cell_type": "code",
   "execution_count": 171,
   "id": "a1ae7faa-a229-4e4d-9278-b1b1a690b00b",
   "metadata": {},
   "outputs": [
    {
     "name": "stdout",
     "output_type": "stream",
     "text": [
      "Final value of theta = [6.16711299e+00 8.63374188e+02 2.35250594e+01 1.37783897e+01\n",
      " 2.08994825e+01 5.56127375e+00 2.71061474e+00 4.63549801e+00\n",
      " 5.74317280e-01 7.30006047e+00 5.05002594e+00 3.57358005e+00]\n",
      "cost_history = [7.04420350e+12 4.11237149e+12 2.74042706e+12 ... 1.53371528e+12\n",
      " 1.53371525e+12 1.53371521e+12]\n",
      "validation loss = [6.82873774e+12 4.15815081e+12 2.94063369e+12 ... 2.00066189e+12\n",
      " 2.00066184e+12 2.00066179e+12]\n"
     ]
    },
    {
     "data": {
      "image/png": "[encoded data removed]",
      "text/plain": [
       "<Figure size 432x288 with 1 Axes>"
      ]
     },
     "metadata": {
      "needs_background": "light"
     },
     "output_type": "display_data"
    }
   ],
   "source": [
    "#Training for Problem 1b\n",
    "\n",
    "varlist = ['area', 'bedrooms', 'bathrooms', 'stories', 'mainroad', 'guestroom', 'basement',\n",
    "           'hotwaterheating', 'airconditioning', 'parking', 'prefarea', 'price']\n",
    "\n",
    "housing1bTrain = df_train[varlist]\n",
    "housing1bTest = df_test[varlist]\n",
    "\n",
    "iterations = 2000\n",
    "alpha = 0.00000001\n",
    "\n",
    "theta = np.zeros(len(varlist))\n",
    "\n",
    "y = housing1bTrain.pop('price')\n",
    "x = housing1bTrain\n",
    "\n",
    "x0 = np.ones((m, 1))\n",
    "x = np.hstack((x0, x))\n",
    "\n",
    "lam = 0\n",
    "\n",
    "valY = housing1bTest.pop('price')\n",
    "valX = housing1bTest\n",
    "\n",
    "x0 = np.ones((n, 1))\n",
    "valX = np.hstack((x0, valX))\n",
    "\n",
    "theta, cost_history, validationCost = gradientDescent(x, y, valX, valY, theta, alpha, iterations, lam)\n",
    "\n",
    "print('Final value of theta =',theta)\n",
    "print('cost_history =',cost_history)\n",
    "print('validation loss =', validationCost)\n",
    "\n",
    "iteration_array = np.arange(1, iterations + 1)\n",
    "\n",
    "plt.plot(iteration_array, cost_history, color= 'red', label = 'Training')\n",
    "plt.plot(iteration_array, validationCost, color= 'blue', label = 'Validation')\n",
    "plt.title('1b Covergence of Gradient Descent for Training and Validation')\n",
    "plt.xlabel(\"Iterations\")\n",
    "plt.ylabel(\"Cost\")\n",
    "plt.legend()\n",
    "plt.grid()"
   ]
  },
  {
   "cell_type": "code",
   "execution_count": 176,
   "id": "2037f094-78b0-4717-8b5f-ce1494ecfb6d",
   "metadata": {},
   "outputs": [
    {
     "name": "stdout",
     "output_type": "stream",
     "text": [
      "Final value of theta = [0.07936862 0.22928592 0.10143028 0.21019838 0.14522526 0.14190411]\n",
      "cost_history = [0.04732496 0.0463236  0.04534917 ... 0.00632883 0.00632853 0.00632824]\n",
      "validation loss = [0.06049028 0.05930455 0.05814943 ... 0.00885243 0.00885228 0.00885212]\n",
      "\n",
      "Final value of theta = [-1.12834793e-16  3.92536979e-01  6.97405136e-02  3.25044769e-01\n",
      "  2.17336284e-01  1.65854496e-01]\n",
      "cost_history = [0.48929419 0.47899469 0.46908589 ... 0.20884164 0.20884164 0.20884164]\n",
      "validation loss = [0.49039437 0.48115797 0.4722765  ... 0.24646845 0.24646845 0.24646845]\n"
     ]
    },
    {
     "data": {
      "image/png": "[encoded data removed]",
      "text/plain": [
       "<Figure size 432x288 with 1 Axes>"
      ]
     },
     "metadata": {
      "needs_background": "light"
     },
     "output_type": "display_data"
    }
   ],
   "source": [
    "#Training for Problem 2a\n",
    "\n",
    "varlist = ['area', 'bedrooms', 'bathrooms', 'stories', 'parking', 'price']\n",
    "\n",
    "housing2aTrain = df_train[varlist]\n",
    "housing2aTest = df_test[varlist]\n",
    "\n",
    "iterations = 3000\n",
    "alpha = 0.01\n",
    "lam = 0\n",
    "\n",
    "# With normalization\n",
    "\n",
    "scaler = MinMaxScaler()\n",
    "housing2aTrain[varlist] = scaler.fit_transform(housing2aTrain[varlist] ) \n",
    "housing2aTest[varlist] = scaler.fit_transform(housing2aTest[varlist]) \n",
    "\n",
    "theta = np.zeros(len(varlist))\n",
    "\n",
    "y = housing2aTrain.pop('price')\n",
    "x = housing2aTrain\n",
    "\n",
    "x0 = np.ones((m, 1))\n",
    "x = np.hstack((x0, x))\n",
    "\n",
    "valY = housing2aTest.pop('price')\n",
    "valX = housing2aTest\n",
    "\n",
    "x0 = np.ones((n, 1))\n",
    "valX = np.hstack((x0, valX))\n",
    "\n",
    "theta, cost_history, validationCost = gradientDescent(x, y, valX, valY, theta, alpha, iterations, lam)\n",
    "\n",
    "print('Final value of theta =',theta)\n",
    "print('cost_history =',cost_history)\n",
    "print('validation loss =', validationCost)\n",
    "print('')\n",
    "\n",
    "\n",
    "iteration_array = np.arange(1, iterations + 1)\n",
    "\n",
    "plt.plot(iteration_array, cost_history, color= 'red', label = 'Training')\n",
    "plt.plot(iteration_array, validationCost, color= 'blue', label = 'Validation')\n",
    "plt.title('2a Covergence of Gradient Descent for Training and Validation - Normalization')\n",
    "plt.xlabel(\"Iterations\")\n",
    "plt.ylabel(\"Cost\")\n",
    "plt.legend()\n",
    "plt.grid()\n",
    "\n",
    "# With standardization\n",
    "\n",
    "housing2aTrain = df_train[varlist]\n",
    "housing2aTest = df_test[varlist]\n",
    "\n",
    "scaler = StandardScaler()\n",
    "housing2aTrain[varlist] = scaler.fit_transform(housing2aTrain[varlist] ) \n",
    "housing2aTest[varlist] = scaler.fit_transform(housing2aTest[varlist]) \n",
    "\n",
    "theta = np.zeros(len(varlist))\n",
    "\n",
    "y = housing2aTrain.pop('price')\n",
    "x = housing2aTrain\n",
    "\n",
    "x0 = np.ones((m, 1))\n",
    "x = np.hstack((x0, x))\n",
    "\n",
    "valY = housing2aTest.pop('price')\n",
    "valX = housing2aTest\n",
    "\n",
    "x0 = np.ones((n, 1))\n",
    "valX = np.hstack((x0, valX))\n",
    "\n",
    "theta, cost_history, validationCost = gradientDescent(x, y, valX, valY, theta, alpha, iterations, lam)\n",
    "\n",
    "print('Final value of theta =',theta)\n",
    "print('cost_history =',cost_history)\n",
    "print('validation loss =', validationCost)\n"
   ]
  },
  {
   "cell_type": "code",
   "execution_count": 177,
   "id": "1067f1fa-5f2c-49f8-ace7-6e69f725498a",
   "metadata": {},
   "outputs": [
    {
     "data": {
      "image/png": "[encoded data removed]",
      "text/plain": [
       "<Figure size 432x288 with 1 Axes>"
      ]
     },
     "metadata": {
      "needs_background": "light"
     },
     "output_type": "display_data"
    }
   ],
   "source": [
    "#Standardization plot\n",
    "\n",
    "iteration_array = np.arange(1, iterations + 1)\n",
    "\n",
    "plt.plot(iteration_array, cost_history, color= 'red', label = 'Training')\n",
    "plt.plot(iteration_array, validationCost, color= 'blue', label = 'Validation')\n",
    "plt.title('2a Covergence of Gradient Descent for Training and Validation - Standardization')\n",
    "plt.xlabel(\"Iterations\")\n",
    "plt.ylabel(\"Cost\")\n",
    "plt.legend()\n",
    "plt.grid()"
   ]
  },
  {
   "cell_type": "code",
   "execution_count": 174,
   "id": "fdd7d7dc-dce2-408f-b56d-f32d0754d8f0",
   "metadata": {},
   "outputs": [
    {
     "name": "stdout",
     "output_type": "stream",
     "text": [
      "Final value of theta = [0.00114484 0.35031127 0.04787502 0.29160516 0.10024633 0.02899875\n",
      " 0.01001074 0.03987139 0.03801119 0.08541834 0.08148812 0.05682157]\n",
      "cost_history = [0.03058477 0.02070556 0.01519795 ... 0.00413222 0.00413222 0.00413222]\n",
      "validation loss = [0.04147823 0.029703   0.02274704 ... 0.00776357 0.00776358 0.00776359]\n",
      "\n",
      "Final value of theta = [-1.02105551e-16  3.12309466e-01  4.21595173e-02  2.95804149e-01\n",
      "  1.76394658e-01  5.87504577e-02  2.34345919e-02  1.15877522e-01\n",
      "  5.25554407e-02  2.41902223e-01  1.40146034e-01  1.50687272e-01]\n",
      "cost_history = [0.35880765 0.2766476  0.2286036  ... 0.1517434  0.1517434  0.1517434 ]\n",
      "validation loss = [0.37134659 0.29685147 0.25364766 ... 0.20084719 0.20084719 0.20084719]\n"
     ]
    },
    {
     "data": {
      "image/png": "[encoded data removed]",
      "text/plain": [
       "<Figure size 432x288 with 1 Axes>"
      ]
     },
     "metadata": {
      "needs_background": "light"
     },
     "output_type": "display_data"
    }
   ],
   "source": [
    "#Training for Problem 2b\n",
    "\n",
    "varlist = ['area', 'bedrooms', 'bathrooms', 'stories', 'mainroad', 'guestroom', 'basement',\n",
    "           'hotwaterheating', 'airconditioning', 'parking', 'prefarea', 'price']\n",
    "\n",
    "housing2bTrain = df_train[varlist]\n",
    "housing2bTest = df_test[varlist]\n",
    "\n",
    "iterations = 3000\n",
    "alpha = 0.1\n",
    "lam = 0\n",
    "\n",
    "\n",
    "# With normalization\n",
    "\n",
    "scaler = MinMaxScaler()\n",
    "housing2bTrain[varlist] = scaler.fit_transform(housing2bTrain[varlist]) \n",
    "housing2bTest[varlist] = scaler.fit_transform(housing2bTest[varlist]) \n",
    "\n",
    "theta = np.zeros(len(varlist))\n",
    "\n",
    "y = housing2bTrain.pop('price')\n",
    "x = housing2bTrain\n",
    "\n",
    "x0 = np.ones((m, 1))\n",
    "x = np.hstack((x0, x))\n",
    "\n",
    "valY = housing2bTest.pop('price')\n",
    "valX = housing2bTest\n",
    "\n",
    "x0 = np.ones((n, 1))\n",
    "valX = np.hstack((x0, valX))\n",
    "\n",
    "theta, cost_history, validationCost = gradientDescent(x, y, valX, valY, theta, alpha, iterations, lam)\n",
    "\n",
    "print('Final value of theta =',theta)\n",
    "print('cost_history =',cost_history)\n",
    "print('validation loss =', validationCost)\n",
    "print('')\n",
    "\n",
    "\n",
    "iteration_array = np.arange(1, iterations + 1)\n",
    "\n",
    "plt.plot(iteration_array, cost_history, color= 'red', label = 'Training')\n",
    "plt.plot(iteration_array, validationCost, color= 'blue', label = 'Validation')\n",
    "plt.title('3a Covergence of Gradient Descent for Training and Validation')\n",
    "plt.xlabel(\"Iterations\")\n",
    "plt.ylabel(\"Cost\")\n",
    "plt.legend()\n",
    "plt.grid()\n",
    "\n",
    "# With standardization\n",
    "\n",
    "housing2bTrain = df_train[varlist]\n",
    "housing2bTest = df_test[varlist]\n",
    "\n",
    "scaler = StandardScaler()\n",
    "housing2bTrain[varlist] = scaler.fit_transform(housing2bTrain[varlist]) \n",
    "housing2bTest[varlist] = scaler.fit_transform(housing2bTest[varlist]) \n",
    "\n",
    "theta = np.zeros(len(varlist))\n",
    "\n",
    "y = housing2bTrain.pop('price')\n",
    "x = housing2bTrain\n",
    "\n",
    "x0 = np.ones((m, 1))\n",
    "x = np.hstack((x0, x))\n",
    "\n",
    "valY = housing2bTest.pop('price')\n",
    "valX = housing2bTest\n",
    "\n",
    "x0 = np.ones((n, 1))\n",
    "valX = np.hstack((x0, valX))\n",
    "\n",
    "theta, cost_history, validationCost = gradientDescent(x, y, valX, valY, theta, alpha, iterations, lam)\n",
    "\n",
    "print('Final value of theta =',theta)\n",
    "print('cost_history =',cost_history)\n",
    "print('validation loss =', validationCost)\n",
    "\n"
   ]
  },
  {
   "cell_type": "code",
   "execution_count": 162,
   "id": "04dd7c32-14c3-4a7d-9458-5de5939c8b03",
   "metadata": {},
   "outputs": [
    {
     "data": {
      "image/png": "[encoded data removed]",
      "text/plain": [
       "<Figure size 432x288 with 1 Axes>"
      ]
     },
     "metadata": {
      "needs_background": "light"
     },
     "output_type": "display_data"
    }
   ],
   "source": [
    "#Standardization plot\n",
    "\n",
    "iteration_array = np.arange(1, iterations + 1)\n",
    "\n",
    "plt.plot(iteration_array, cost_history, color= 'red', label = 'Training')\n",
    "plt.plot(iteration_array, validationCost, color= 'blue', label = 'Validation')\n",
    "plt.title('3b Covergence of Gradient Descent for Training and Validation')\n",
    "plt.xlabel(\"Iterations\")\n",
    "plt.ylabel(\"Cost\")\n",
    "plt.legend()\n",
    "plt.grid()"
   ]
  },
  {
   "cell_type": "code",
   "execution_count": 163,
   "id": "5b797323-41ac-4710-97d3-3a1fad764a24",
   "metadata": {},
   "outputs": [
    {
     "name": "stdout",
     "output_type": "stream",
     "text": [
      "Final value of theta = [0.04151128 0.43612468 0.07850445 0.31815384 0.1239524  0.09728074]\n",
      "cost_history = [0.03869503 0.03147363 0.02607174 ... 0.00573016 0.00573016 0.00573016]\n",
      "validation loss = [0.05022495 0.041527   0.03492339 ... 0.00900557 0.00900557 0.00900557]\n"
     ]
    },
    {
     "data": {
      "image/png": "[encoded data removed]",
      "text/plain": [
       "<Figure size 432x288 with 1 Axes>"
      ]
     },
     "metadata": {
      "needs_background": "light"
     },
     "output_type": "display_data"
    }
   ],
   "source": [
    "#Training for Problem 3a\n",
    "\n",
    "\n",
    "varlist = ['area', 'bedrooms', 'bathrooms', 'stories', 'parking', 'price']\n",
    "\n",
    "housing3aTrain = df_train[varlist]\n",
    "housing3aTest = df_test[varlist]\n",
    "\n",
    "iterations = 3000\n",
    "alpha = 0.1\n",
    "lam = 0.1\n",
    "\n",
    "scaler = MinMaxScaler()\n",
    "housing3aTrain[varlist] = scaler.fit_transform(housing3aTrain[varlist] ) \n",
    "housing3aTest[varlist] = scaler.fit_transform(housing3aTest[varlist]) \n",
    "\n",
    "theta = np.zeros(len(varlist))\n",
    "\n",
    "y = housing3aTrain.pop('price')\n",
    "x = housing3aTrain\n",
    "\n",
    "x0 = np.ones((m, 1))\n",
    "x = np.hstack((x0, x))\n",
    "\n",
    "valY = housing3aTest.pop('price')\n",
    "valX = housing3aTest\n",
    "\n",
    "x0 = np.ones((n, 1))\n",
    "valX = np.hstack((x0, valX))\n",
    "\n",
    "theta, cost_history, validationCost = gradientDescent(x, y, valX, valY, theta, alpha, iterations, lam)\n",
    "\n",
    "print('Final value of theta =',theta)\n",
    "print('cost_history =',cost_history)\n",
    "print('validation loss =', validationCost)\n",
    "\n",
    "iteration_array = np.arange(1, iterations + 1)\n",
    "\n",
    "plt.plot(iteration_array, cost_history, color= 'red', label = 'Training')\n",
    "plt.plot(iteration_array, validationCost, color= 'blue', label = 'Validation')\n",
    "plt.title('3a Covergence of Gradient Descent for Training and Validation')\n",
    "plt.xlabel(\"Iterations\")\n",
    "plt.ylabel(\"Cost\")\n",
    "plt.legend()\n",
    "plt.grid()"
   ]
  },
  {
   "cell_type": "code",
   "execution_count": 178,
   "id": "a2b02399-7128-4871-8633-a88adb94d87b",
   "metadata": {},
   "outputs": [
    {
     "name": "stdout",
     "output_type": "stream",
     "text": [
      "Final value of theta = [0.00158095 0.34577322 0.04860235 0.28921151 0.10035476 0.02939344\n",
      " 0.01027187 0.03986371 0.03793671 0.08552837 0.08211591 0.05693657]\n",
      "cost_history = [0.03058504 0.02070667 0.01519992 ... 0.00416378 0.00416378 0.00416378]\n",
      "validation loss = [0.04147823 0.02970336 0.02274776 ... 0.00773928 0.00773929 0.0077393 ]\n"
     ]
    },
    {
     "data": {
      "image/png": "[encoded data removed]",
      "text/plain": [
       "<Figure size 432x288 with 1 Axes>"
      ]
     },
     "metadata": {
      "needs_background": "light"
     },
     "output_type": "display_data"
    }
   ],
   "source": [
    "#Training for Problem 3b\n",
    "\n",
    "\n",
    "varlist = ['area', 'bedrooms', 'bathrooms', 'stories', 'mainroad', 'guestroom', 'basement',\n",
    "           'hotwaterheating', 'airconditioning', 'parking', 'prefarea', 'price']\n",
    "\n",
    "housing3bTrain = df_train[varlist]\n",
    "housing3bTest = df_test[varlist]\n",
    "\n",
    "iterations = 3000\n",
    "alpha = 0.1\n",
    "lam = 0.1\n",
    "\n",
    "scaler = MinMaxScaler()\n",
    "housing3bTrain[varlist] = scaler.fit_transform(housing3bTrain[varlist] ) \n",
    "housing3bTest[varlist] = scaler.fit_transform(housing3bTest[varlist]) \n",
    "\n",
    "theta = np.zeros(len(varlist))\n",
    "\n",
    "y = housing3bTrain.pop('price')\n",
    "x = housing3bTrain\n",
    "\n",
    "x0 = np.ones((m, 1))\n",
    "x = np.hstack((x0, x))\n",
    "\n",
    "valY = housing3bTest.pop('price')\n",
    "valX = housing3bTest\n",
    "\n",
    "x0 = np.ones((n, 1))\n",
    "valX = np.hstack((x0, valX))\n",
    "\n",
    "theta, cost_history, validationCost = gradientDescent(x, y, valX, valY, theta, alpha, iterations, lam)\n",
    "\n",
    "print('Final value of theta =',theta)\n",
    "print('cost_history =',cost_history)\n",
    "print('validation loss =', validationCost)\n",
    "\n",
    "iteration_array = np.arange(1, iterations + 1)\n",
    "\n",
    "plt.plot(iteration_array, cost_history, color= 'red', label = 'Training')\n",
    "plt.plot(iteration_array, validationCost, color= 'blue', label = 'Validation')\n",
    "plt.title('3b Covergence of Gradient Descent for Training and Validation')\n",
    "plt.xlabel(\"Iterations\")\n",
    "plt.ylabel(\"Cost\")\n",
    "plt.legend()\n",
    "plt.grid()"
   ]
  }
 ],
 "metadata": {
  "kernelspec": {
   "display_name": "Python 3",
   "language": "python",
   "name": "python3"
  },
  "language_info": {
   "codemirror_mode": {
    "name": "ipython",
    "version": 3
   },
   "file_extension": ".py",
   "mimetype": "text/x-python",
   "name": "python",
   "nbconvert_exporter": "python",
   "pygments_lexer": "ipython3",
   "version": "3.8.8"
  }
 },
 "nbformat": 4,
 "nbformat_minor": 5
}
